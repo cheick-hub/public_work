{
 "cells": [
  {
   "cell_type": "markdown",
   "metadata": {},
   "source": [
    "# Data collection\n",
    "Get a shitton of scientific papers in various categories"
   ]
  },
  {
   "cell_type": "code",
   "execution_count": 9,
   "metadata": {},
   "outputs": [],
   "source": [
    "import arxivscraper\n",
    "import pandas as pd"
   ]
  },
  {
   "cell_type": "code",
   "execution_count": 6,
   "metadata": {},
   "outputs": [],
   "source": [
    "categories = ['cs', 'econ', 'eess', 'math', 'physics', 'q-bio', 'q-fin', 'stat']"
   ]
  },
  {
   "cell_type": "code",
   "execution_count": null,
   "metadata": {},
   "outputs": [],
   "source": [
    "papers = []\n",
    "for category in categories:\n",
    "    print(f'Scraping category: {category}...')\n",
    "    scraper = arxivscraper.Scraper(category=category, date_from='2021-01-01')\n",
    "    for paper in scraper.scrape():\n",
    "        papers.append(paper)"
   ]
  },
  {
   "cell_type": "code",
   "execution_count": 8,
   "metadata": {},
   "outputs": [
    {
     "data": {
      "text/plain": [
       "{'title': 'modeling computations in a semantic network',\n",
       " 'id': '0706.0022',\n",
       " 'abstract': 'semantic network research has seen a resurgence from its early history in the cognitive sciences with the inception of the semantic web initiative. the semantic web effort has brought forth an array of technologies that support the encoding, storage, and querying of the semantic network data structure at the world stage. currently, the popular conception of the semantic web is that of a data modeling medium where real and conceptual entities are related in semantically meaningful ways. however, new models have emerged that explicitly encode procedural information within the semantic network substrate. with these new technologies, the semantic web has evolved from a data modeling medium to a computational medium. this article provides a classification of existing computational modeling efforts and the requirements of supporting technologies that will aid in the further growth of this burgeoning domain.',\n",
       " 'categories': 'cs.ai',\n",
       " 'doi': '',\n",
       " 'created': '2007-05-31',\n",
       " 'updated': '',\n",
       " 'authors': ['marko a. rodriguez', 'johan bollen'],\n",
       " 'affiliation': [],\n",
       " 'url': 'https://arxiv.org/abs/0706.0022'}"
      ]
     },
     "execution_count": 8,
     "metadata": {},
     "output_type": "execute_result"
    }
   ],
   "source": [
    "papers[0]"
   ]
  },
  {
   "cell_type": "code",
   "execution_count": 19,
   "metadata": {},
   "outputs": [],
   "source": [
    "cols = ('id', 'title', 'categories', 'abstract', 'doi', 'created', 'updated', 'authors')\n",
    "df = pd.DataFrame(papers, columns=cols)"
   ]
  },
  {
   "cell_type": "code",
   "execution_count": 23,
   "metadata": {},
   "outputs": [],
   "source": [
    "df.to_json('data/arxiv_papers.json', orient='records', indent=2)"
   ]
  }
 ],
 "metadata": {
  "interpreter": {
   "hash": "c9a909dbf399a34d8e6d170b6c066d56ff1811b263bbac8a7706d7115577aaf2"
  },
  "kernelspec": {
   "display_name": "Python 3.9.1 64-bit ('base': conda)",
   "language": "python",
   "name": "python3"
  },
  "language_info": {
   "codemirror_mode": {
    "name": "ipython",
    "version": 3
   },
   "file_extension": ".py",
   "mimetype": "text/x-python",
   "name": "python",
   "nbconvert_exporter": "python",
   "pygments_lexer": "ipython3",
   "version": "3.9.1"
  },
  "orig_nbformat": 4
 },
 "nbformat": 4,
 "nbformat_minor": 2
}
